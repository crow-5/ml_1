{
 "cells": [
  {
   "cell_type": "markdown",
   "id": "f37c9ba0",
   "metadata": {},
   "source": [
    "#### 感知机\n",
    "##### 流（1）/不流（0）\n",
    "##### 与门（AND gate）、与非门（NAND gate）、或门"
   ]
  },
  {
   "cell_type": "code",
   "execution_count": null,
   "id": "5ebaf8c3",
   "metadata": {},
   "outputs": [
    {
     "name": "stdout",
     "output_type": "stream",
     "text": [
      "0\n",
      "0\n",
      "0\n",
      "1\n",
      "1\n",
      "1\n",
      "1\n",
      "0\n",
      "0\n",
      "1\n",
      "1\n",
      "1\n"
     ]
    }
   ],
   "source": [
    "#定义接受x1和x2的AND函数\n",
    "def AND(x1,x2):\n",
    "    w1, w2, theta = 0.5, 0.5, 0.7\n",
    "    tmp = x1*w1 + x2*w2\n",
    "    if tmp <= theta:\n",
    "        return 0\n",
    "    elif tmp > theta:\n",
    "        return 1\n",
    "\n",
    "a = AND(0,0)\n",
    "b = AND(1,0)\n",
    "c = AND(0,1)\n",
    "d = AND(1,1)\n",
    "print(a)  # 0\n",
    "print(b)  # 0\n",
    "print(c)  # 0\n",
    "print(d)  # 1\n",
    "\n",
    "#定义接受x1和x2的NAND函数\n",
    "def NAND(x1,x2):\n",
    "    w1, w2, theta = 0.5, 0.5, 0.7\n",
    "    tmp = x1*w1 + x2*w2\n",
    "    if tmp <= theta:\n",
    "        return 1\n",
    "    elif tmp > theta:\n",
    "        return 0\n",
    "\n",
    "a = NAND(0,0)\n",
    "b = NAND(1,0)\n",
    "c = NAND(0,1)\n",
    "d = NAND(1,1)\n",
    "print(a)  # 0\n",
    "print(b)  # 0\n",
    "print(c)  # 0\n",
    "print(d)  # 1\n",
    "\n",
    "#定义接受x1和x2的OR函数\n",
    "def OR(x1,x2):\n",
    "    w1, w2, theta = 0.5, 0.5, 0.2\n",
    "    tmp = x1*w1 + x2*w2\n",
    "    if tmp <= theta:\n",
    "        return 0\n",
    "    elif tmp > theta:\n",
    "        return 1\n",
    "\n",
    "a = OR(0,0)\n",
    "b = OR(1,0)\n",
    "c = OR(0,1)\n",
    "d = OR(1,1)\n",
    "print(a)  # 0\n",
    "print(b)  # 1\n",
    "print(c)  # 1\n",
    "print(d)  # 1"
   ]
  },
  {
   "cell_type": "code",
   "execution_count": null,
   "id": "eaaa2d5f",
   "metadata": {},
   "outputs": [
    {
     "data": {
      "text/plain": [
       "np.float64(-0.19999999999999996)"
      ]
     },
     "metadata": {},
     "output_type": "display_data"
    }
   ],
   "source": [
    "import numpy as np\n",
    "x = np.array([0,1])\n",
    "w = np.array([0.5,0.5])\n",
    "b = -0.7\n",
    "w*x\n",
    "np.sum(w*x)\n",
    "np.sum(w*x) + b\n"
   ]
  },
  {
   "cell_type": "code",
   "execution_count": null,
   "id": "dcfadabc",
   "metadata": {},
   "outputs": [],
   "source": [
    "#定义and函数\n",
    "def AND(x1,x2):\n",
    "    x = np.array([x1,x2])\n",
    "    w = np.array([0.5,0.5])\n",
    "    b = -0.7\n",
    "    tmp = np.sum(w*x) + b\n",
    "    if tmp <= 0:\n",
    "        return 0\n",
    "    else:\n",
    "        return 1\n",
    "    \n",
    "#定义nand函数\n",
    "def NAND(x1,x2):\n",
    "    x = np.array([x1,x2])\n",
    "    w = np.array([-0.5,-0.5])\n",
    "    b = 0.7\n",
    "    tmp = np.sum(w*x) + b\n",
    "    if tmp <= 0:\n",
    "        return 0\n",
    "    else:\n",
    "        return 1\n",
    "    \n",
    "#定义or函数\n",
    "def OR(x1,x2):\n",
    "    x = np.array([x1,x2])\n",
    "    w = np.array([0.5,0.5])\n",
    "    b = -0.2\n",
    "    tmp = np.sum(w*x) + b\n",
    "    if tmp <= 0:\n",
    "        return 0\n",
    "    else:\n",
    "        return 1\n",
    "\n",
    "\n"
   ]
  },
  {
   "cell_type": "markdown",
   "id": "ae2d9d92",
   "metadata": {},
   "source": [
    "##### 异或门\n",
    "#### 多层感知机"
   ]
  },
  {
   "cell_type": "code",
   "execution_count": null,
   "id": "bd6ba4ee",
   "metadata": {},
   "outputs": [
    {
     "name": "stdout",
     "output_type": "stream",
     "text": [
      "0\n",
      "1\n",
      "1\n",
      "0\n"
     ]
    }
   ],
   "source": [
    "#定义异或门\n",
    "def XOR(x1,x2):\n",
    "    s1 = NAND(x1,x2)\n",
    "    s2 = OR(x1,x2)\n",
    "    y = AND(s1,s2)\n",
    "    return y\n",
    "\n",
    "a = XOR(0,0)#0\n",
    "b = XOR(1,0)#1\n",
    "c = XOR(0,1)#1\n",
    "d = XOR(1,1)#0\n",
    "\n",
    "print(a)  # 0\n",
    "print(b)  # 1\n",
    "print(c)  # 1\n",
    "print(d)  # 0"
   ]
  }
 ],
 "metadata": {
  "language_info": {
   "name": "python"
  }
 },
 "nbformat": 4,
 "nbformat_minor": 5
}
